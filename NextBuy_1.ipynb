{
 "cells": [
  {
   "cell_type": "markdown",
   "id": "a7fc3967",
   "metadata": {},
   "source": [
    "# Next Buy\n",
    "### Predicting the next sale\n"
   ]
  },
  {
   "cell_type": "code",
   "execution_count": 18,
   "id": "02506aa9",
   "metadata": {},
   "outputs": [],
   "source": [
    "import pandas as pd\n",
    "import numpy as np\n",
    "import matplotlib as plt\n",
    "from sklearn import preprocessing \n",
    "\n"
   ]
  },
  {
   "cell_type": "code",
   "execution_count": 19,
   "id": "9f2f489c",
   "metadata": {},
   "outputs": [
    {
     "output_type": "execute_result",
     "data": {
      "text/plain": [
       "        user_id      aov        category\n",
       "0         37327  29128.0          Phones\n",
       "1         37327    354.0         Fashion\n",
       "2         37327    460.0      Home Decor\n",
       "3         37327    761.0         Fashion\n",
       "4         41260  16658.0          Phones\n",
       "...         ...      ...             ...\n",
       "257402    29237    689.0         Fashion\n",
       "257403    15197   2195.0       Groceries\n",
       "257404     2114    559.0  Back to School\n",
       "257405    35741  18451.0          Phones\n",
       "257406    36769  12529.0          Phones\n",
       "\n",
       "[257407 rows x 3 columns]"
      ],
      "text/html": "<div>\n<style scoped>\n    .dataframe tbody tr th:only-of-type {\n        vertical-align: middle;\n    }\n\n    .dataframe tbody tr th {\n        vertical-align: top;\n    }\n\n    .dataframe thead th {\n        text-align: right;\n    }\n</style>\n<table border=\"1\" class=\"dataframe\">\n  <thead>\n    <tr style=\"text-align: right;\">\n      <th></th>\n      <th>user_id</th>\n      <th>aov</th>\n      <th>category</th>\n    </tr>\n  </thead>\n  <tbody>\n    <tr>\n      <th>0</th>\n      <td>37327</td>\n      <td>29128.0</td>\n      <td>Phones</td>\n    </tr>\n    <tr>\n      <th>1</th>\n      <td>37327</td>\n      <td>354.0</td>\n      <td>Fashion</td>\n    </tr>\n    <tr>\n      <th>2</th>\n      <td>37327</td>\n      <td>460.0</td>\n      <td>Home Decor</td>\n    </tr>\n    <tr>\n      <th>3</th>\n      <td>37327</td>\n      <td>761.0</td>\n      <td>Fashion</td>\n    </tr>\n    <tr>\n      <th>4</th>\n      <td>41260</td>\n      <td>16658.0</td>\n      <td>Phones</td>\n    </tr>\n    <tr>\n      <th>...</th>\n      <td>...</td>\n      <td>...</td>\n      <td>...</td>\n    </tr>\n    <tr>\n      <th>257402</th>\n      <td>29237</td>\n      <td>689.0</td>\n      <td>Fashion</td>\n    </tr>\n    <tr>\n      <th>257403</th>\n      <td>15197</td>\n      <td>2195.0</td>\n      <td>Groceries</td>\n    </tr>\n    <tr>\n      <th>257404</th>\n      <td>2114</td>\n      <td>559.0</td>\n      <td>Back to School</td>\n    </tr>\n    <tr>\n      <th>257405</th>\n      <td>35741</td>\n      <td>18451.0</td>\n      <td>Phones</td>\n    </tr>\n    <tr>\n      <th>257406</th>\n      <td>36769</td>\n      <td>12529.0</td>\n      <td>Phones</td>\n    </tr>\n  </tbody>\n</table>\n<p>257407 rows × 3 columns</p>\n</div>"
     },
     "metadata": {},
     "execution_count": 19
    }
   ],
   "source": [
    "data_df = pd.read_csv(\"data/Training Data.csv\")\n",
    "data_df"
   ]
  },
  {
   "cell_type": "code",
   "execution_count": 20,
   "id": "5500eeab",
   "metadata": {},
   "outputs": [
    {
     "output_type": "execute_result",
     "data": {
      "text/plain": [
       "   user_id      aov    category\n",
       "0    37327  29128.0      Phones\n",
       "1    37327    354.0     Fashion\n",
       "2    37327    460.0  Home Decor\n",
       "3    37327    761.0     Fashion\n",
       "4    41260  16658.0      Phones"
      ],
      "text/html": "<div>\n<style scoped>\n    .dataframe tbody tr th:only-of-type {\n        vertical-align: middle;\n    }\n\n    .dataframe tbody tr th {\n        vertical-align: top;\n    }\n\n    .dataframe thead th {\n        text-align: right;\n    }\n</style>\n<table border=\"1\" class=\"dataframe\">\n  <thead>\n    <tr style=\"text-align: right;\">\n      <th></th>\n      <th>user_id</th>\n      <th>aov</th>\n      <th>category</th>\n    </tr>\n  </thead>\n  <tbody>\n    <tr>\n      <th>0</th>\n      <td>37327</td>\n      <td>29128.0</td>\n      <td>Phones</td>\n    </tr>\n    <tr>\n      <th>1</th>\n      <td>37327</td>\n      <td>354.0</td>\n      <td>Fashion</td>\n    </tr>\n    <tr>\n      <th>2</th>\n      <td>37327</td>\n      <td>460.0</td>\n      <td>Home Decor</td>\n    </tr>\n    <tr>\n      <th>3</th>\n      <td>37327</td>\n      <td>761.0</td>\n      <td>Fashion</td>\n    </tr>\n    <tr>\n      <th>4</th>\n      <td>41260</td>\n      <td>16658.0</td>\n      <td>Phones</td>\n    </tr>\n  </tbody>\n</table>\n</div>"
     },
     "metadata": {},
     "execution_count": 20
    }
   ],
   "source": [
    "data_df.head()\n"
   ]
  },
  {
   "cell_type": "code",
   "execution_count": 21,
   "id": "8d70feb6",
   "metadata": {},
   "outputs": [
    {
     "output_type": "execute_result",
     "data": {
      "text/plain": [
       "({'Back to School',\n",
       "  'Beauty Products',\n",
       "  'Board Games',\n",
       "  'Books',\n",
       "  'Consumer Durables',\n",
       "  'Ereaders',\n",
       "  'Fashion',\n",
       "  'Fitness',\n",
       "  'Gaming',\n",
       "  'Groceries',\n",
       "  'Home Decor',\n",
       "  'Kitchen cleaning Supplies',\n",
       "  'Laptops',\n",
       "  'Painiting Supplies',\n",
       "  'Pet Supplies',\n",
       "  'Phones',\n",
       "  'TVs',\n",
       "  'Toys'},\n",
       " 18)"
      ]
     },
     "metadata": {},
     "execution_count": 21
    }
   ],
   "source": [
    "set(data_df['category']), len(set(data_df['category']))\n"
   ]
  },
  {
   "cell_type": "code",
   "execution_count": 22,
   "id": "bdd2820e",
   "metadata": {},
   "outputs": [
    {
     "output_type": "execute_result",
     "data": {
      "text/plain": [
       "array(['Phones', 'Fashion', 'Home Decor', 'Consumer Durables',\n",
       "       'Back to School', 'Toys', 'Books', 'Groceries', 'Fitness',\n",
       "       'Board Games', 'Painiting Supplies', 'Gaming', 'TVs', 'Laptops',\n",
       "       'Beauty Products', 'Pet Supplies', 'Ereaders',\n",
       "       'Kitchen cleaning Supplies'], dtype=object)"
      ]
     },
     "metadata": {},
     "execution_count": 22
    }
   ],
   "source": [
    "data_df['category'].unique()\n"
   ]
  },
  {
   "cell_type": "code",
   "execution_count": 23,
   "id": "7169e59c",
   "metadata": {},
   "outputs": [],
   "source": [
    "training_df = pd.read_csv('data/Training Data Target.csv')"
   ]
  },
  {
   "cell_type": "code",
   "execution_count": 24,
   "id": "958855c8",
   "metadata": {},
   "outputs": [
    {
     "output_type": "execute_result",
     "data": {
      "text/plain": [
       "       user_id   aov    category\n",
       "0        13153 -9999      Phones\n",
       "1        42853 -9999      Phones\n",
       "2        30550 -9999      Phones\n",
       "3         9797 -9999      Phones\n",
       "4         8171 -9999      Phones\n",
       "...        ...   ...         ...\n",
       "13240    49383 -9999     Fashion\n",
       "13241    49590 -9999  Home Decor\n",
       "13242    49799 -9999     Fitness\n",
       "13243    49900 -9999     Fitness\n",
       "13244    49912 -9999     Fashion\n",
       "\n",
       "[13245 rows x 3 columns]"
      ],
      "text/html": "<div>\n<style scoped>\n    .dataframe tbody tr th:only-of-type {\n        vertical-align: middle;\n    }\n\n    .dataframe tbody tr th {\n        vertical-align: top;\n    }\n\n    .dataframe thead th {\n        text-align: right;\n    }\n</style>\n<table border=\"1\" class=\"dataframe\">\n  <thead>\n    <tr style=\"text-align: right;\">\n      <th></th>\n      <th>user_id</th>\n      <th>aov</th>\n      <th>category</th>\n    </tr>\n  </thead>\n  <tbody>\n    <tr>\n      <th>0</th>\n      <td>13153</td>\n      <td>-9999</td>\n      <td>Phones</td>\n    </tr>\n    <tr>\n      <th>1</th>\n      <td>42853</td>\n      <td>-9999</td>\n      <td>Phones</td>\n    </tr>\n    <tr>\n      <th>2</th>\n      <td>30550</td>\n      <td>-9999</td>\n      <td>Phones</td>\n    </tr>\n    <tr>\n      <th>3</th>\n      <td>9797</td>\n      <td>-9999</td>\n      <td>Phones</td>\n    </tr>\n    <tr>\n      <th>4</th>\n      <td>8171</td>\n      <td>-9999</td>\n      <td>Phones</td>\n    </tr>\n    <tr>\n      <th>...</th>\n      <td>...</td>\n      <td>...</td>\n      <td>...</td>\n    </tr>\n    <tr>\n      <th>13240</th>\n      <td>49383</td>\n      <td>-9999</td>\n      <td>Fashion</td>\n    </tr>\n    <tr>\n      <th>13241</th>\n      <td>49590</td>\n      <td>-9999</td>\n      <td>Home Decor</td>\n    </tr>\n    <tr>\n      <th>13242</th>\n      <td>49799</td>\n      <td>-9999</td>\n      <td>Fitness</td>\n    </tr>\n    <tr>\n      <th>13243</th>\n      <td>49900</td>\n      <td>-9999</td>\n      <td>Fitness</td>\n    </tr>\n    <tr>\n      <th>13244</th>\n      <td>49912</td>\n      <td>-9999</td>\n      <td>Fashion</td>\n    </tr>\n  </tbody>\n</table>\n<p>13245 rows × 3 columns</p>\n</div>"
     },
     "metadata": {},
     "execution_count": 24
    }
   ],
   "source": [
    "training_df\n"
   ]
  },
  {
   "cell_type": "code",
   "execution_count": 25,
   "id": "74892ae1",
   "metadata": {},
   "outputs": [
    {
     "output_type": "execute_result",
     "data": {
      "text/plain": [
       "array([-9999], dtype=int64)"
      ]
     },
     "metadata": {},
     "execution_count": 25
    }
   ],
   "source": [
    "training_df['aov'].unique()"
   ]
  },
  {
   "cell_type": "code",
   "execution_count": 26,
   "id": "d7a33abb",
   "metadata": {},
   "outputs": [
    {
     "output_type": "error",
     "ename": "TypeError",
     "evalue": "'DataFrame' object is not callable",
     "traceback": [
      "\u001b[1;31m---------------------------------------------------------------------------\u001b[0m",
      "\u001b[1;31mTypeError\u001b[0m                                 Traceback (most recent call last)",
      "\u001b[1;32m~\\AppData\\Local\\Temp/ipykernel_16608/623371616.py\u001b[0m in \u001b[0;36m<module>\u001b[1;34m\u001b[0m\n\u001b[1;32m----> 1\u001b[1;33m \u001b[0mphones_df\u001b[0m \u001b[1;33m=\u001b[0m \u001b[0mdata_df\u001b[0m\u001b[1;33m(\u001b[0m\u001b[0mdata_df\u001b[0m\u001b[1;33m[\u001b[0m\u001b[1;34m'category'\u001b[0m\u001b[1;33m]\u001b[0m\u001b[1;33m==\u001b[0m\u001b[1;34m\"Phones\"\u001b[0m\u001b[1;33m)\u001b[0m\u001b[1;33m\u001b[0m\u001b[1;33m\u001b[0m\u001b[0m\n\u001b[0m\u001b[0;32m      2\u001b[0m \u001b[0mphones_df\u001b[0m\u001b[1;33m\u001b[0m\u001b[1;33m\u001b[0m\u001b[0m\n",
      "\u001b[1;31mTypeError\u001b[0m: 'DataFrame' object is not callable"
     ]
    }
   ],
   "source": [
    "phones_df = data_df(data_df['category']==\"Phones\")\n",
    "phones_df\n"
   ]
  },
  {
   "cell_type": "code",
   "execution_count": 27,
   "id": "97a54ec1",
   "metadata": {},
   "outputs": [
    {
     "output_type": "execute_result",
     "data": {
      "text/plain": [
       "        user_id      aov category\n",
       "0         37327  29128.0   Phones\n",
       "4         41260  16658.0   Phones\n",
       "7         19360  10214.0   Phones\n",
       "8         19360  16761.0   Phones\n",
       "9         19360   6382.0   Phones\n",
       "...         ...      ...      ...\n",
       "257371     9808   7021.0   Phones\n",
       "257391    33050   5964.0   Phones\n",
       "257400    28087  16828.0   Phones\n",
       "257405    35741  18451.0   Phones\n",
       "257406    36769  12529.0   Phones\n",
       "\n",
       "[66341 rows x 3 columns]"
      ],
      "text/html": "<div>\n<style scoped>\n    .dataframe tbody tr th:only-of-type {\n        vertical-align: middle;\n    }\n\n    .dataframe tbody tr th {\n        vertical-align: top;\n    }\n\n    .dataframe thead th {\n        text-align: right;\n    }\n</style>\n<table border=\"1\" class=\"dataframe\">\n  <thead>\n    <tr style=\"text-align: right;\">\n      <th></th>\n      <th>user_id</th>\n      <th>aov</th>\n      <th>category</th>\n    </tr>\n  </thead>\n  <tbody>\n    <tr>\n      <th>0</th>\n      <td>37327</td>\n      <td>29128.0</td>\n      <td>Phones</td>\n    </tr>\n    <tr>\n      <th>4</th>\n      <td>41260</td>\n      <td>16658.0</td>\n      <td>Phones</td>\n    </tr>\n    <tr>\n      <th>7</th>\n      <td>19360</td>\n      <td>10214.0</td>\n      <td>Phones</td>\n    </tr>\n    <tr>\n      <th>8</th>\n      <td>19360</td>\n      <td>16761.0</td>\n      <td>Phones</td>\n    </tr>\n    <tr>\n      <th>9</th>\n      <td>19360</td>\n      <td>6382.0</td>\n      <td>Phones</td>\n    </tr>\n    <tr>\n      <th>...</th>\n      <td>...</td>\n      <td>...</td>\n      <td>...</td>\n    </tr>\n    <tr>\n      <th>257371</th>\n      <td>9808</td>\n      <td>7021.0</td>\n      <td>Phones</td>\n    </tr>\n    <tr>\n      <th>257391</th>\n      <td>33050</td>\n      <td>5964.0</td>\n      <td>Phones</td>\n    </tr>\n    <tr>\n      <th>257400</th>\n      <td>28087</td>\n      <td>16828.0</td>\n      <td>Phones</td>\n    </tr>\n    <tr>\n      <th>257405</th>\n      <td>35741</td>\n      <td>18451.0</td>\n      <td>Phones</td>\n    </tr>\n    <tr>\n      <th>257406</th>\n      <td>36769</td>\n      <td>12529.0</td>\n      <td>Phones</td>\n    </tr>\n  </tbody>\n</table>\n<p>66341 rows × 3 columns</p>\n</div>"
     },
     "metadata": {},
     "execution_count": 27
    }
   ],
   "source": [
    "phones_df = data_df[data_df['category'] == 'Phones']\n",
    "phones_df"
   ]
  },
  {
   "cell_type": "code",
   "execution_count": 29,
   "id": "1c83c6eb",
   "metadata": {},
   "outputs": [
    {
     "output_type": "error",
     "ename": "AttributeError",
     "evalue": "'DataFrame' object has no attribute 'len'",
     "traceback": [
      "\u001b[1;31m---------------------------------------------------------------------------\u001b[0m",
      "\u001b[1;31mAttributeError\u001b[0m                            Traceback (most recent call last)",
      "\u001b[1;32m~\\AppData\\Local\\Temp/ipykernel_16608/220621976.py\u001b[0m in \u001b[0;36m<module>\u001b[1;34m\u001b[0m\n\u001b[1;32m----> 1\u001b[1;33m \u001b[0mphones_df\u001b[0m\u001b[1;33m.\u001b[0m\u001b[0mlen\u001b[0m\u001b[1;33m(\u001b[0m\u001b[1;33m)\u001b[0m\u001b[1;33m\u001b[0m\u001b[1;33m\u001b[0m\u001b[0m\n\u001b[0m",
      "\u001b[1;32m~\\AppData\\Local\\Programs\\Python\\Python39\\lib\\site-packages\\pandas\\core\\generic.py\u001b[0m in \u001b[0;36m__getattr__\u001b[1;34m(self, name)\u001b[0m\n\u001b[0;32m   5463\u001b[0m             \u001b[1;32mif\u001b[0m \u001b[0mself\u001b[0m\u001b[1;33m.\u001b[0m\u001b[0m_info_axis\u001b[0m\u001b[1;33m.\u001b[0m\u001b[0m_can_hold_identifiers_and_holds_name\u001b[0m\u001b[1;33m(\u001b[0m\u001b[0mname\u001b[0m\u001b[1;33m)\u001b[0m\u001b[1;33m:\u001b[0m\u001b[1;33m\u001b[0m\u001b[1;33m\u001b[0m\u001b[0m\n\u001b[0;32m   5464\u001b[0m                 \u001b[1;32mreturn\u001b[0m \u001b[0mself\u001b[0m\u001b[1;33m[\u001b[0m\u001b[0mname\u001b[0m\u001b[1;33m]\u001b[0m\u001b[1;33m\u001b[0m\u001b[1;33m\u001b[0m\u001b[0m\n\u001b[1;32m-> 5465\u001b[1;33m             \u001b[1;32mreturn\u001b[0m \u001b[0mobject\u001b[0m\u001b[1;33m.\u001b[0m\u001b[0m__getattribute__\u001b[0m\u001b[1;33m(\u001b[0m\u001b[0mself\u001b[0m\u001b[1;33m,\u001b[0m \u001b[0mname\u001b[0m\u001b[1;33m)\u001b[0m\u001b[1;33m\u001b[0m\u001b[1;33m\u001b[0m\u001b[0m\n\u001b[0m\u001b[0;32m   5466\u001b[0m \u001b[1;33m\u001b[0m\u001b[0m\n\u001b[0;32m   5467\u001b[0m     \u001b[1;32mdef\u001b[0m \u001b[0m__setattr__\u001b[0m\u001b[1;33m(\u001b[0m\u001b[0mself\u001b[0m\u001b[1;33m,\u001b[0m \u001b[0mname\u001b[0m\u001b[1;33m:\u001b[0m \u001b[0mstr\u001b[0m\u001b[1;33m,\u001b[0m \u001b[0mvalue\u001b[0m\u001b[1;33m)\u001b[0m \u001b[1;33m->\u001b[0m \u001b[1;32mNone\u001b[0m\u001b[1;33m:\u001b[0m\u001b[1;33m\u001b[0m\u001b[1;33m\u001b[0m\u001b[0m\n",
      "\u001b[1;31mAttributeError\u001b[0m: 'DataFrame' object has no attribute 'len'"
     ]
    }
   ],
   "source": []
  },
  {
   "cell_type": "code",
   "execution_count": 5,
   "id": "58aadb14",
   "metadata": {},
   "outputs": [
    {
     "output_type": "error",
     "ename": "NameError",
     "evalue": "name 'data_df' is not defined",
     "traceback": [
      "\u001b[1;31m---------------------------------------------------------------------------\u001b[0m",
      "\u001b[1;31mNameError\u001b[0m                                 Traceback (most recent call last)",
      "\u001b[1;32m~\\AppData\\Local\\Temp/ipykernel_9296/113596220.py\u001b[0m in \u001b[0;36m<module>\u001b[1;34m\u001b[0m\n\u001b[1;32m----> 1\u001b[1;33m \u001b[1;32mfor\u001b[0m \u001b[0mcategory\u001b[0m \u001b[1;32min\u001b[0m \u001b[0mdata_df\u001b[0m\u001b[1;33m[\u001b[0m\u001b[1;34m'category'\u001b[0m\u001b[1;33m]\u001b[0m\u001b[1;33m.\u001b[0m\u001b[0munique\u001b[0m\u001b[1;33m(\u001b[0m\u001b[1;33m)\u001b[0m\u001b[1;33m:\u001b[0m\u001b[1;33m\u001b[0m\u001b[1;33m\u001b[0m\u001b[0m\n\u001b[0m\u001b[0;32m      2\u001b[0m     \u001b[0mplt\u001b[0m \u001b[1;33m=\u001b[0m \u001b[0mdata_df\u001b[0m\u001b[1;33m[\u001b[0m\u001b[0mdata_df\u001b[0m\u001b[1;33m[\u001b[0m\u001b[1;34m'category'\u001b[0m\u001b[1;33m]\u001b[0m \u001b[1;33m==\u001b[0m \u001b[0mcategory\u001b[0m\u001b[1;33m]\u001b[0m\u001b[1;33m.\u001b[0m\u001b[0mhist\u001b[0m\u001b[1;33m(\u001b[0m\u001b[0mcolumn\u001b[0m\u001b[1;33m=\u001b[0m\u001b[1;34m'aov'\u001b[0m\u001b[1;33m,\u001b[0m \u001b[0mbins\u001b[0m\u001b[1;33m=\u001b[0m\u001b[1;36m100\u001b[0m\u001b[1;33m)\u001b[0m\u001b[1;33m\u001b[0m\u001b[1;33m\u001b[0m\u001b[0m\n\u001b[0;32m      3\u001b[0m     \u001b[0mplt\u001b[0m\u001b[1;33m[\u001b[0m\u001b[1;36m0\u001b[0m\u001b[1;33m]\u001b[0m\u001b[1;33m[\u001b[0m\u001b[1;36m0\u001b[0m\u001b[1;33m]\u001b[0m\u001b[1;33m.\u001b[0m\u001b[0mset_xlabel\u001b[0m\u001b[1;33m(\u001b[0m\u001b[0mcategory\u001b[0m\u001b[1;33m)\u001b[0m\u001b[1;33m\u001b[0m\u001b[1;33m\u001b[0m\u001b[0m\n\u001b[0;32m      4\u001b[0m \u001b[1;33m\u001b[0m\u001b[0m\n",
      "\u001b[1;31mNameError\u001b[0m: name 'data_df' is not defined"
     ]
    }
   ],
   "source": [
    "for category in data_df['category'].unique():\n",
    "    plt = data_df[data_df['category'] == category].hist(column='aov', bins=100)\n",
    "    plt[0][0].set_xlabel(category)\n",
    "    "
   ]
  },
  {
   "cell_type": "code",
   "execution_count": 40,
   "id": "2d4f815f",
   "metadata": {},
   "outputs": [
    {
     "data": {
      "text/html": [
       "<div>\n",
       "<style scoped>\n",
       "    .dataframe tbody tr th:only-of-type {\n",
       "        vertical-align: middle;\n",
       "    }\n",
       "\n",
       "    .dataframe tbody tr th {\n",
       "        vertical-align: top;\n",
       "    }\n",
       "\n",
       "    .dataframe thead th {\n",
       "        text-align: right;\n",
       "    }\n",
       "</style>\n",
       "<table border=\"1\" class=\"dataframe\">\n",
       "  <thead>\n",
       "    <tr style=\"text-align: right;\">\n",
       "      <th>category</th>\n",
       "      <th>Back to School</th>\n",
       "      <th>Beauty Products</th>\n",
       "      <th>Board Games</th>\n",
       "      <th>Books</th>\n",
       "      <th>Consumer Durables</th>\n",
       "      <th>Ereaders</th>\n",
       "      <th>Fashion</th>\n",
       "      <th>Fitness</th>\n",
       "      <th>Gaming</th>\n",
       "      <th>Groceries</th>\n",
       "      <th>Home Decor</th>\n",
       "      <th>Kitchen cleaning Supplies</th>\n",
       "      <th>Laptops</th>\n",
       "      <th>Painiting Supplies</th>\n",
       "      <th>Pet Supplies</th>\n",
       "      <th>Phones</th>\n",
       "      <th>TVs</th>\n",
       "      <th>Toys</th>\n",
       "    </tr>\n",
       "    <tr>\n",
       "      <th>user_id</th>\n",
       "      <th></th>\n",
       "      <th></th>\n",
       "      <th></th>\n",
       "      <th></th>\n",
       "      <th></th>\n",
       "      <th></th>\n",
       "      <th></th>\n",
       "      <th></th>\n",
       "      <th></th>\n",
       "      <th></th>\n",
       "      <th></th>\n",
       "      <th></th>\n",
       "      <th></th>\n",
       "      <th></th>\n",
       "      <th></th>\n",
       "      <th></th>\n",
       "      <th></th>\n",
       "      <th></th>\n",
       "    </tr>\n",
       "  </thead>\n",
       "  <tbody>\n",
       "    <tr>\n",
       "      <th>49617</th>\n",
       "      <td>0</td>\n",
       "      <td>0</td>\n",
       "      <td>1</td>\n",
       "      <td>0</td>\n",
       "      <td>0</td>\n",
       "      <td>0</td>\n",
       "      <td>2</td>\n",
       "      <td>0</td>\n",
       "      <td>1</td>\n",
       "      <td>0</td>\n",
       "      <td>0</td>\n",
       "      <td>1</td>\n",
       "      <td>0</td>\n",
       "      <td>0</td>\n",
       "      <td>0</td>\n",
       "      <td>0</td>\n",
       "      <td>0</td>\n",
       "      <td>1</td>\n",
       "    </tr>\n",
       "    <tr>\n",
       "      <th>377</th>\n",
       "      <td>1</td>\n",
       "      <td>0</td>\n",
       "      <td>0</td>\n",
       "      <td>0</td>\n",
       "      <td>0</td>\n",
       "      <td>0</td>\n",
       "      <td>1</td>\n",
       "      <td>0</td>\n",
       "      <td>1</td>\n",
       "      <td>1</td>\n",
       "      <td>2</td>\n",
       "      <td>0</td>\n",
       "      <td>0</td>\n",
       "      <td>0</td>\n",
       "      <td>0</td>\n",
       "      <td>1</td>\n",
       "      <td>0</td>\n",
       "      <td>2</td>\n",
       "    </tr>\n",
       "    <tr>\n",
       "      <th>20325</th>\n",
       "      <td>1</td>\n",
       "      <td>0</td>\n",
       "      <td>0</td>\n",
       "      <td>0</td>\n",
       "      <td>1</td>\n",
       "      <td>0</td>\n",
       "      <td>1</td>\n",
       "      <td>0</td>\n",
       "      <td>1</td>\n",
       "      <td>0</td>\n",
       "      <td>0</td>\n",
       "      <td>0</td>\n",
       "      <td>0</td>\n",
       "      <td>0</td>\n",
       "      <td>1</td>\n",
       "      <td>3</td>\n",
       "      <td>0</td>\n",
       "      <td>1</td>\n",
       "    </tr>\n",
       "    <tr>\n",
       "      <th>8601</th>\n",
       "      <td>0</td>\n",
       "      <td>0</td>\n",
       "      <td>0</td>\n",
       "      <td>0</td>\n",
       "      <td>0</td>\n",
       "      <td>0</td>\n",
       "      <td>2</td>\n",
       "      <td>0</td>\n",
       "      <td>1</td>\n",
       "      <td>1</td>\n",
       "      <td>1</td>\n",
       "      <td>0</td>\n",
       "      <td>0</td>\n",
       "      <td>0</td>\n",
       "      <td>0</td>\n",
       "      <td>1</td>\n",
       "      <td>0</td>\n",
       "      <td>0</td>\n",
       "    </tr>\n",
       "    <tr>\n",
       "      <th>28925</th>\n",
       "      <td>0</td>\n",
       "      <td>0</td>\n",
       "      <td>0</td>\n",
       "      <td>0</td>\n",
       "      <td>0</td>\n",
       "      <td>0</td>\n",
       "      <td>4</td>\n",
       "      <td>0</td>\n",
       "      <td>0</td>\n",
       "      <td>0</td>\n",
       "      <td>0</td>\n",
       "      <td>0</td>\n",
       "      <td>0</td>\n",
       "      <td>0</td>\n",
       "      <td>0</td>\n",
       "      <td>2</td>\n",
       "      <td>0</td>\n",
       "      <td>0</td>\n",
       "    </tr>\n",
       "    <tr>\n",
       "      <th>18296</th>\n",
       "      <td>1</td>\n",
       "      <td>0</td>\n",
       "      <td>0</td>\n",
       "      <td>0</td>\n",
       "      <td>1</td>\n",
       "      <td>1</td>\n",
       "      <td>1</td>\n",
       "      <td>0</td>\n",
       "      <td>1</td>\n",
       "      <td>0</td>\n",
       "      <td>1</td>\n",
       "      <td>0</td>\n",
       "      <td>0</td>\n",
       "      <td>0</td>\n",
       "      <td>0</td>\n",
       "      <td>2</td>\n",
       "      <td>0</td>\n",
       "      <td>3</td>\n",
       "    </tr>\n",
       "    <tr>\n",
       "      <th>13069</th>\n",
       "      <td>0</td>\n",
       "      <td>0</td>\n",
       "      <td>0</td>\n",
       "      <td>0</td>\n",
       "      <td>0</td>\n",
       "      <td>0</td>\n",
       "      <td>3</td>\n",
       "      <td>0</td>\n",
       "      <td>1</td>\n",
       "      <td>0</td>\n",
       "      <td>1</td>\n",
       "      <td>0</td>\n",
       "      <td>0</td>\n",
       "      <td>0</td>\n",
       "      <td>0</td>\n",
       "      <td>0</td>\n",
       "      <td>0</td>\n",
       "      <td>0</td>\n",
       "    </tr>\n",
       "    <tr>\n",
       "      <th>32161</th>\n",
       "      <td>0</td>\n",
       "      <td>1</td>\n",
       "      <td>0</td>\n",
       "      <td>1</td>\n",
       "      <td>0</td>\n",
       "      <td>0</td>\n",
       "      <td>4</td>\n",
       "      <td>0</td>\n",
       "      <td>0</td>\n",
       "      <td>0</td>\n",
       "      <td>0</td>\n",
       "      <td>0</td>\n",
       "      <td>0</td>\n",
       "      <td>0</td>\n",
       "      <td>0</td>\n",
       "      <td>2</td>\n",
       "      <td>0</td>\n",
       "      <td>0</td>\n",
       "    </tr>\n",
       "    <tr>\n",
       "      <th>35704</th>\n",
       "      <td>0</td>\n",
       "      <td>0</td>\n",
       "      <td>0</td>\n",
       "      <td>0</td>\n",
       "      <td>1</td>\n",
       "      <td>0</td>\n",
       "      <td>3</td>\n",
       "      <td>0</td>\n",
       "      <td>1</td>\n",
       "      <td>1</td>\n",
       "      <td>2</td>\n",
       "      <td>0</td>\n",
       "      <td>0</td>\n",
       "      <td>0</td>\n",
       "      <td>0</td>\n",
       "      <td>5</td>\n",
       "      <td>1</td>\n",
       "      <td>2</td>\n",
       "    </tr>\n",
       "    <tr>\n",
       "      <th>230</th>\n",
       "      <td>1</td>\n",
       "      <td>1</td>\n",
       "      <td>0</td>\n",
       "      <td>0</td>\n",
       "      <td>0</td>\n",
       "      <td>0</td>\n",
       "      <td>2</td>\n",
       "      <td>1</td>\n",
       "      <td>0</td>\n",
       "      <td>1</td>\n",
       "      <td>1</td>\n",
       "      <td>0</td>\n",
       "      <td>0</td>\n",
       "      <td>0</td>\n",
       "      <td>0</td>\n",
       "      <td>3</td>\n",
       "      <td>0</td>\n",
       "      <td>0</td>\n",
       "    </tr>\n",
       "    <tr>\n",
       "      <th>34349</th>\n",
       "      <td>1</td>\n",
       "      <td>0</td>\n",
       "      <td>0</td>\n",
       "      <td>0</td>\n",
       "      <td>0</td>\n",
       "      <td>0</td>\n",
       "      <td>0</td>\n",
       "      <td>0</td>\n",
       "      <td>0</td>\n",
       "      <td>0</td>\n",
       "      <td>0</td>\n",
       "      <td>0</td>\n",
       "      <td>0</td>\n",
       "      <td>0</td>\n",
       "      <td>0</td>\n",
       "      <td>2</td>\n",
       "      <td>0</td>\n",
       "      <td>0</td>\n",
       "    </tr>\n",
       "  </tbody>\n",
       "</table>\n",
       "</div>"
      ],
      "text/plain": [
       "category  Back to School  Beauty Products  Board Games  Books  \\\n",
       "user_id                                                         \n",
       "49617                  0                0            1      0   \n",
       "377                    1                0            0      0   \n",
       "20325                  1                0            0      0   \n",
       "8601                   0                0            0      0   \n",
       "28925                  0                0            0      0   \n",
       "18296                  1                0            0      0   \n",
       "13069                  0                0            0      0   \n",
       "32161                  0                1            0      1   \n",
       "35704                  0                0            0      0   \n",
       "230                    1                1            0      0   \n",
       "34349                  1                0            0      0   \n",
       "\n",
       "category  Consumer Durables  Ereaders  Fashion  Fitness  Gaming  Groceries  \\\n",
       "user_id                                                                      \n",
       "49617                     0         0        2        0       1          0   \n",
       "377                       0         0        1        0       1          1   \n",
       "20325                     1         0        1        0       1          0   \n",
       "8601                      0         0        2        0       1          1   \n",
       "28925                     0         0        4        0       0          0   \n",
       "18296                     1         1        1        0       1          0   \n",
       "13069                     0         0        3        0       1          0   \n",
       "32161                     0         0        4        0       0          0   \n",
       "35704                     1         0        3        0       1          1   \n",
       "230                       0         0        2        1       0          1   \n",
       "34349                     0         0        0        0       0          0   \n",
       "\n",
       "category  Home Decor  Kitchen cleaning Supplies  Laptops  Painiting Supplies  \\\n",
       "user_id                                                                        \n",
       "49617              0                          1        0                   0   \n",
       "377                2                          0        0                   0   \n",
       "20325              0                          0        0                   0   \n",
       "8601               1                          0        0                   0   \n",
       "28925              0                          0        0                   0   \n",
       "18296              1                          0        0                   0   \n",
       "13069              1                          0        0                   0   \n",
       "32161              0                          0        0                   0   \n",
       "35704              2                          0        0                   0   \n",
       "230                1                          0        0                   0   \n",
       "34349              0                          0        0                   0   \n",
       "\n",
       "category  Pet Supplies  Phones  TVs  Toys  \n",
       "user_id                                    \n",
       "49617                0       0    0     1  \n",
       "377                  0       1    0     2  \n",
       "20325                1       3    0     1  \n",
       "8601                 0       1    0     0  \n",
       "28925                0       2    0     0  \n",
       "18296                0       2    0     3  \n",
       "13069                0       0    0     0  \n",
       "32161                0       2    0     0  \n",
       "35704                0       5    1     2  \n",
       "230                  0       3    0     0  \n",
       "34349                0       2    0     0  "
      ]
     },
     "execution_count": 40,
     "metadata": {},
     "output_type": "execute_result"
    }
   ],
   "source": [
    "import numpy as np\n",
    "np.random.seed(seed=1)\n",
    "frequency_df = data_df.pivot_table(index='user_id', \n",
    "               columns='category',\n",
    "               aggfunc='size',\n",
    "               fill_value=0).iloc[np.random.randint(data_df['user_id'].unique().shape[0], size=11,)]\n",
    "frequency_df"
   ]
  },
  {
   "cell_type": "code",
   "execution_count": 45,
   "id": "84f88dd9",
   "metadata": {},
   "outputs": [
    {
     "name": "stdout",
     "output_type": "stream",
     "text": [
      "Candidate User: [1, 2, 1, 1, 1]\n",
      "\n",
      "Candidate User Purchase: [False, False, True, False, False, False, True, False, True, False, False, True, False, False, False, False, False, True]\n",
      "\n"
     ]
    },
    {
     "name": "stderr",
     "output_type": "stream",
     "text": [
      "c:\\users\\mashh\\appdata\\local\\programs\\python\\python39\\lib\\site-packages\\scipy\\spatial\\distance.py:699: RuntimeWarning: invalid value encountered in double_scalars\n",
      "  dist = 1.0 - uv / np.sqrt(uu * vv)\n"
     ]
    },
    {
     "data": {
      "text/html": [
       "<div>\n",
       "<style scoped>\n",
       "    .dataframe tbody tr th:only-of-type {\n",
       "        vertical-align: middle;\n",
       "    }\n",
       "\n",
       "    .dataframe tbody tr th {\n",
       "        vertical-align: top;\n",
       "    }\n",
       "\n",
       "    .dataframe thead th {\n",
       "        text-align: right;\n",
       "    }\n",
       "</style>\n",
       "<table border=\"1\" class=\"dataframe\">\n",
       "  <thead>\n",
       "    <tr style=\"text-align: right;\">\n",
       "      <th></th>\n",
       "      <th>eucl_dist</th>\n",
       "      <th>cosine_dist</th>\n",
       "      <th>cosine_sim</th>\n",
       "    </tr>\n",
       "    <tr>\n",
       "      <th>user_id</th>\n",
       "      <th></th>\n",
       "      <th></th>\n",
       "      <th></th>\n",
       "    </tr>\n",
       "  </thead>\n",
       "  <tbody>\n",
       "    <tr>\n",
       "      <th>49617</th>\n",
       "      <td>0.000000</td>\n",
       "      <td>0.000000</td>\n",
       "      <td>1.000000</td>\n",
       "    </tr>\n",
       "    <tr>\n",
       "      <th>377</th>\n",
       "      <td>2.000000</td>\n",
       "      <td>0.278312</td>\n",
       "      <td>0.721688</td>\n",
       "    </tr>\n",
       "    <tr>\n",
       "      <th>20325</th>\n",
       "      <td>1.732051</td>\n",
       "      <td>0.183503</td>\n",
       "      <td>0.816497</td>\n",
       "    </tr>\n",
       "    <tr>\n",
       "      <th>8601</th>\n",
       "      <td>1.732051</td>\n",
       "      <td>0.209431</td>\n",
       "      <td>0.790569</td>\n",
       "    </tr>\n",
       "    <tr>\n",
       "      <th>28925</th>\n",
       "      <td>2.828427</td>\n",
       "      <td>0.292893</td>\n",
       "      <td>0.707107</td>\n",
       "    </tr>\n",
       "    <tr>\n",
       "      <th>18296</th>\n",
       "      <td>2.645751</td>\n",
       "      <td>0.360398</td>\n",
       "      <td>0.639602</td>\n",
       "    </tr>\n",
       "    <tr>\n",
       "      <th>13069</th>\n",
       "      <td>2.000000</td>\n",
       "      <td>0.217376</td>\n",
       "      <td>0.782624</td>\n",
       "    </tr>\n",
       "    <tr>\n",
       "      <th>32161</th>\n",
       "      <td>2.828427</td>\n",
       "      <td>0.292893</td>\n",
       "      <td>0.707107</td>\n",
       "    </tr>\n",
       "    <tr>\n",
       "      <th>35704</th>\n",
       "      <td>2.000000</td>\n",
       "      <td>0.149580</td>\n",
       "      <td>0.850420</td>\n",
       "    </tr>\n",
       "    <tr>\n",
       "      <th>230</th>\n",
       "      <td>2.000000</td>\n",
       "      <td>0.292893</td>\n",
       "      <td>0.707107</td>\n",
       "    </tr>\n",
       "    <tr>\n",
       "      <th>34349</th>\n",
       "      <td>2.828427</td>\n",
       "      <td>0.000000</td>\n",
       "      <td>1.000000</td>\n",
       "    </tr>\n",
       "  </tbody>\n",
       "</table>\n",
       "</div>"
      ],
      "text/plain": [
       "         eucl_dist  cosine_dist  cosine_sim\n",
       "user_id                                    \n",
       "49617     0.000000     0.000000    1.000000\n",
       "377       2.000000     0.278312    0.721688\n",
       "20325     1.732051     0.183503    0.816497\n",
       "8601      1.732051     0.209431    0.790569\n",
       "28925     2.828427     0.292893    0.707107\n",
       "18296     2.645751     0.360398    0.639602\n",
       "13069     2.000000     0.217376    0.782624\n",
       "32161     2.828427     0.292893    0.707107\n",
       "35704     2.000000     0.149580    0.850420\n",
       "230       2.000000     0.292893    0.707107\n",
       "34349     2.828427     0.000000    1.000000"
      ]
     },
     "execution_count": 45,
     "metadata": {},
     "output_type": "execute_result"
    }
   ],
   "source": [
    "from scipy.spatial import distance\n",
    "\n",
    "candidate_user = frequency_df.iloc[0].tolist()\n",
    "candidate_user_purchases = list(map(bool, candidate_user))\n",
    "candidate_user = [item for item in candidate_user if item]\n",
    "print(f\"Candidate User: {candidate_user}\\n\")\n",
    "print(f\"Candidate User Purchase: {candidate_user_purchases}\\n\")\n",
    "\n",
    "users_df = frequency_df.iloc[:, candidate_user_purchases]\n",
    "similarity_df = pd.DataFrame(None)\n",
    "for idx, row in users_df.iterrows():\n",
    "    current_user = row.tolist()\n",
    "#     print(current_user, candidate_user)\n",
    "\n",
    "    eucl_dist = distance.euclidean(current_user, candidate_user)\n",
    "    cosine_dist = distance.cosine(current_user, candidate_user)\n",
    "    cosine_sim = 1 - cosine_dist\n",
    "\n",
    "    similarity_df = similarity_df.append([{'user_id':idx, 'eucl_dist':eucl_dist, 'cosine_dist':cosine_dist, 'cosine_sim':cosine_sim}])\n",
    "similarity_df = similarity_df.set_index('user_id')\n",
    "similarity_df = similarity_df.fillna(0)\n",
    "similarity_df"
   ]
  },
  {
   "cell_type": "code",
   "execution_count": 12,
   "id": "4285a1d9",
   "metadata": {},
   "outputs": [
    {
     "output_type": "execute_result",
     "data": {
      "text/plain": [
       "        user_id      aov        category\n",
       "0         37327  29128.0          Phones\n",
       "1         37327    354.0         Fashion\n",
       "2         37327    460.0      Home Decor\n",
       "3         37327    761.0         Fashion\n",
       "4         41260  16658.0          Phones\n",
       "...         ...      ...             ...\n",
       "257402    29237    689.0         Fashion\n",
       "257403    15197   2195.0       Groceries\n",
       "257404     2114    559.0  Back to School\n",
       "257405    35741  18451.0          Phones\n",
       "257406    36769  12529.0          Phones\n",
       "\n",
       "[257407 rows x 3 columns]"
      ],
      "text/html": "<div>\n<style scoped>\n    .dataframe tbody tr th:only-of-type {\n        vertical-align: middle;\n    }\n\n    .dataframe tbody tr th {\n        vertical-align: top;\n    }\n\n    .dataframe thead th {\n        text-align: right;\n    }\n</style>\n<table border=\"1\" class=\"dataframe\">\n  <thead>\n    <tr style=\"text-align: right;\">\n      <th></th>\n      <th>user_id</th>\n      <th>aov</th>\n      <th>category</th>\n    </tr>\n  </thead>\n  <tbody>\n    <tr>\n      <th>0</th>\n      <td>37327</td>\n      <td>29128.0</td>\n      <td>Phones</td>\n    </tr>\n    <tr>\n      <th>1</th>\n      <td>37327</td>\n      <td>354.0</td>\n      <td>Fashion</td>\n    </tr>\n    <tr>\n      <th>2</th>\n      <td>37327</td>\n      <td>460.0</td>\n      <td>Home Decor</td>\n    </tr>\n    <tr>\n      <th>3</th>\n      <td>37327</td>\n      <td>761.0</td>\n      <td>Fashion</td>\n    </tr>\n    <tr>\n      <th>4</th>\n      <td>41260</td>\n      <td>16658.0</td>\n      <td>Phones</td>\n    </tr>\n    <tr>\n      <th>...</th>\n      <td>...</td>\n      <td>...</td>\n      <td>...</td>\n    </tr>\n    <tr>\n      <th>257402</th>\n      <td>29237</td>\n      <td>689.0</td>\n      <td>Fashion</td>\n    </tr>\n    <tr>\n      <th>257403</th>\n      <td>15197</td>\n      <td>2195.0</td>\n      <td>Groceries</td>\n    </tr>\n    <tr>\n      <th>257404</th>\n      <td>2114</td>\n      <td>559.0</td>\n      <td>Back to School</td>\n    </tr>\n    <tr>\n      <th>257405</th>\n      <td>35741</td>\n      <td>18451.0</td>\n      <td>Phones</td>\n    </tr>\n    <tr>\n      <th>257406</th>\n      <td>36769</td>\n      <td>12529.0</td>\n      <td>Phones</td>\n    </tr>\n  </tbody>\n</table>\n<p>257407 rows × 3 columns</p>\n</div>"
     },
     "metadata": {},
     "execution_count": 12
    }
   ],
   "source": [
    "data = pd.read_csv(\"data/Training Data.csv\")\n",
    "data"
   ]
  },
  {
   "cell_type": "code",
   "execution_count": null,
   "id": "fe14ad56",
   "metadata": {},
   "outputs": [],
   "source": [
    "trail = data.groupby(['user_id', 'category'])['category']"
   ]
  }
 ],
 "metadata": {
  "kernelspec": {
   "name": "python3",
   "display_name": "Python 3.9.2 64-bit"
  },
  "language_info": {
   "codemirror_mode": {
    "name": "ipython",
    "version": 3
   },
   "file_extension": ".py",
   "mimetype": "text/x-python",
   "name": "python",
   "nbconvert_exporter": "python",
   "pygments_lexer": "ipython3",
   "version": "3.9.2"
  },
  "interpreter": {
   "hash": "d3ef358e1fac5dce7663f42a1be880e41d27997f5e429f52a29c90ea33e11bf3"
  }
 },
 "nbformat": 4,
 "nbformat_minor": 5
}